{
  "nbformat": 4,
  "nbformat_minor": 0,
  "metadata": {
    "colab": {
      "provenance": []
    },
    "kernelspec": {
      "name": "python3",
      "display_name": "Python 3"
    },
    "language_info": {
      "name": "python"
    }
  },
  "cells": [
    {
      "cell_type": "markdown",
      "source": [
        "**Theoritical Question**\n"
      ],
      "metadata": {
        "id": "zQpclt_eM_nj"
      }
    },
    {
      "cell_type": "markdown",
      "source": [
        "1.  What are data structures, and why are they important?\n",
        "A. Data structures are specialized formats for organizing, storing, and accessing collections of data. They provide efficient ways to manage information based on its characteristics and intended use. Think of them as containers that hold your data and determine how you can interact with it. Different containers are better suited for different types of items.\n",
        "**Importants** - Choosing the right data structure significantly impacts the efficiency and performance of your program, Well-chosen data structures can:\n",
        "Simplify data manipulation (adding, removing, modifying elements), Optimize searching and sorting operation, Conserve memory usage.\n"
      ],
      "metadata": {
        "id": "gJ8zMhxpNWwi"
      }
    },
    {
      "cell_type": "markdown",
      "source": [
        "2. Explain the difference between mutable and immutable data types with examples?\n",
        "A. Mutable data types can be changed after creation. You can modify, add, or remove elements in place, without creating a new object. Example - List, Dictonary, Sets.\n",
        "Immutable Objects cannot be changed once they are created. If you want to modify them, you have to create a new object. Example - Integer, String, Tupple, Float."
      ],
      "metadata": {
        "id": "aZ_Ass-3ONaT"
      }
    },
    {
      "cell_type": "markdown",
      "source": [
        "3. What are the main differences between lists and tuples in Python?\n",
        "A. **Lists** and **sets** in Python are both used to store collections, but they have key differences. A **list** is an ordered, mutable collection that allows duplicate elements. You can access elements by index and maintain insertion order. A **set**, on the other hand, is an unordered collection of unique elements with no indexing. Sets are mutable but do not allow duplicates, and they support set operations like union, intersection, and difference. Use a list when order and duplicates matter; use a set when you need fast membership testing and uniqueness of elements. Sets are generally faster for lookups."
      ],
      "metadata": {
        "id": "qSe9YM9vPDIq"
      }
    },
    {
      "cell_type": "markdown",
      "source": [
        "4.  Describe how dictionaries store data?\n",
        "A. In Python, dictionaries store data as key-value pairs using a hash table. Each key is processed through a hash function to generate a unique hash code, which determines where the associated value is stored in memory. This allows for fast access, insertion, and deletion—typically in constant time (O(1)). Keys must be immutable and unique, while values can be of any data type. If two keys produce the same hash (a collision), Python uses techniques like open addressing to resolve it. The dictionary keeps track of keys and values together, ensuring efficient and reliable data retrieval based on keys."
      ],
      "metadata": {
        "id": "VUz-hxB4P79F"
      }
    },
    {
      "cell_type": "markdown",
      "source": [
        "5. Why might you use a set instead of a list in Python?\n",
        "A. In Python3, a **set** is used instead of a **list** when you need a collection of **unique elements** and fast **membership testing**. Sets automatically eliminate duplicates and offer faster lookups (average O(1) time), while lists allow duplicates and have slower searches (O(n) time). Sets also support efficient **set operations** like union, intersection, and difference, making them ideal for mathematical or comparison tasks. However, sets are **unordered** and don’t support indexing or slicing. Use a set when element uniqueness and performance are priorities, and a list when you need ordering, duplicates, or position-based access."
      ],
      "metadata": {
        "id": "Q1eOoHfDQa6I"
      }
    },
    {
      "cell_type": "markdown",
      "source": [
        "6. What is a string in Python, and how is it different from a list?\n",
        "A. A string in Python is an immutable sequence of characters used to represent text. It is enclosed in quotes, either single (') or double (\"), like \"hello\" or 'Python'.\n",
        "In Python, a **string** is an **immutable sequence** of characters used to represent text, while a **list** is a **mutable collection** that can store elements of any data type, including strings, numbers, or even other lists. Strings are enclosed in quotes and support operations like slicing, concatenation, and text-specific methods, but cannot be changed after creation. Lists use square brackets, allow item modification, and offer methods like `.append()` and `.remove()`. Use strings for fixed text data and lists when you need a dynamic, editable collection of elements. Strings store characters; lists store a variety of objects."
      ],
      "metadata": {
        "id": "RH0TP6vhQFb_"
      }
    },
    {
      "cell_type": "markdown",
      "source": [
        "7.  How do tuples ensure data integrity in Python?\n",
        "A. Tuples help ensure data integrity in Python primarily through their immutability—once a tuple is created, its contents cannot be changed. This means:\n",
        "You can’t accidentally modify, delete, or reorder elements in a tuple. This makes them reliable for storing constant or fixed data.\n",
        "Tuples can be used as dictionary keys or stored in sets (if all their elements are also immutable), allowing for secure and consistent behavior in collections.\n",
        "Because they can’t change, tuples are safe to share across different parts of a program without risk of unintentional modification."
      ],
      "metadata": {
        "id": "Ci1Nb5HUQ189"
      }
    },
    {
      "cell_type": "markdown",
      "source": [
        "8. What is a hash table, and how does it relate to dictionaries in Python?\n",
        "A. A hash table is a data structure that stores key-value pairs and allows for efficient data retrieval based on the key. It works by using a hash function to convert the key into a hash code, which is then mapped to an index in an underlying array or list where the value is stored.\n",
        "\n",
        "In Python, dictionaries are implemented using hash tables.\n",
        "\n",
        "When you create a dictionary, Python uses a hash function to compute a unique hash code for each key. This hash code determines where the corresponding value will be stored in memory.\n",
        "\n",
        "The dictionary allows for fast lookups, insertions, and deletions—usually in constant time (O(1)), thanks to the efficiency of hash table operations."
      ],
      "metadata": {
        "id": "zbNnDAgmSBwW"
      }
    },
    {
      "cell_type": "markdown",
      "source": [
        "9. Can lists contain different data types in Python?\n",
        "A. Yes, in Python, lists can contain elements of different data types. A single list can store integers, strings, floats, booleans, and even other lists or objects. This flexibility allows for mixed data structures within a single list, making them versatile for various use cases."
      ],
      "metadata": {
        "id": "BJpXKU-jSXa4"
      }
    },
    {
      "cell_type": "markdown",
      "source": [
        "10.  Explain why strings are immutable in Python?\n",
        "A. Strings are immutable in Python to ensure **data integrity**, performance optimization, and safety in multithreaded environments. Once a string is created, its content cannot be changed, meaning any operation that seems to modify a string actually creates a new one. This prevents accidental changes to data and ensures predictable behavior. Immutability also allows Python to optimize memory usage by reusing string objects, reducing overhead. Since strings are often used as keys in dictionaries or elements in sets, their immutability ensures that their hash values remain constant, making them reliable for these uses."
      ],
      "metadata": {
        "id": "ttqia_6gSpCJ"
      }
    },
    {
      "cell_type": "markdown",
      "source": [
        "11. What advantages do dictionaries offer over lists for certain tasks?\n",
        "A. Dictionaries offer several advantages over lists, particularly when you need efficient data retrieval, key-based lookups, and unique associations between elements.\n",
        "\n",
        "* **Fast Lookup by Key**: Dictionaries use hash tables, which allow for **O(1)** average time complexity for lookups, insertions, and deletions based on keys. In contrast, lists require **O(n)** time for searching through elements.\n",
        "\n",
        "* **Key-Value Pair Storage**: Dictionaries store data as key-value pairs, making them ideal for tasks where each piece of data needs to be directly associated with a unique identifier. Lists, on the other hand, store elements without such associations.\n",
        "\n",
        "* **Uniqueness of Keys**: Dictionaries automatically ensure that keys are unique, preventing duplicates and simplifying data management. Lists can have duplicate elements.\n",
        "\n",
        "* **Optimized Membership Tests**: Checking if a key exists in a dictionary is fast (O(1)), while in lists, it requires searching through all elements (O(n)).\n",
        "\n"
      ],
      "metadata": {
        "id": "-Q8-J-PsS207"
      }
    },
    {
      "cell_type": "markdown",
      "source": [
        "12. Describe a scenario where using a tuple would be preferable over a list?\n",
        "A. A tuple is preferable over a list when you need to store **immutable**, **fixed data** that should not change during the program’s execution. For example, when representing coordinates (latitude, longitude) or red, green, blue, a tuple ensures the data remains constant and prevents accidental modification. Since tuples are immutable, they can also be used as **dictionary keys** or elements in a **set**, which lists cannot. Tuples are more memory-efficient and faster than lists for fixed data collections."
      ],
      "metadata": {
        "id": "Sd7daY5tTUcy"
      }
    },
    {
      "cell_type": "markdown",
      "source": [
        "13.  How do sets handle duplicate values in Python?\n",
        "A. In Python, **sets** automatically eliminate **duplicate values**. When you try to add a duplicate element to a set, it is simply ignored. This behavior ensures that a set only contains unique items. Sets use a **hash table** internally, which checks the hash value of each element, and if an element with the same value already exists, it won’t be added. This makes sets ideal for storing collections where uniqueness is a priority, such as membership tests or removing duplicates."
      ],
      "metadata": {
        "id": "y57F2bk4UCFT"
      }
    },
    {
      "cell_type": "markdown",
      "source": [
        "14.  How does the “in” keyword work differently for lists and dictionaries?\n",
        "A. In Python, the in keyword works differently for lists and dictionaries.\n",
        "\n",
        "* For lists, in checks if an element exists in the list, iterating through each item to see if a match is found. This results in O(n) time complexity.\n",
        "* For dictionaries, in checks if a key exists in the dictionary, leveraging the fast lookup capabilities of the underlying hash table, which typically results in O(1) time complexity."
      ],
      "metadata": {
        "id": "ptseBmSBUQ9d"
      }
    },
    {
      "cell_type": "markdown",
      "source": [
        "15. Can you modify the elements of a tuple? Explain why or why not?\n",
        "A. No, you cannot modify the elements of a tuple in Python because tuples are immutable. Once a tuple is created, its contents are fixed and cannot be changed. This immutability ensures data integrity and safety, preventing accidental modifications. Tuples are ideal for representing constant data that should remain unchanged throughout the program, like coordinates. The immutability also allows tuples to be used as dictionary keys or set elements, where their hash values need to stay consistent."
      ],
      "metadata": {
        "id": "5HApTs6hUnHo"
      }
    },
    {
      "cell_type": "markdown",
      "source": [
        "16. What is a nested dictionary, and give an example of its use case?\n",
        "A. A **nested dictionary** is a dictionary that contains other dictionaries as values. It allows you to store more complex data by organizing it into layers, where each dictionary can represent a subcategory of information.\n",
        "\n",
        "Example Use Case:\n",
        "Imagine you have a company with employees, and you need to store details about each employee, such as their personal information and job performance. A nested dictionary can represent this structure, where the outer dictionary stores each employee’s name as the key, and the inner dictionary contains their age, position, and performance ratings. This organization allows easy access to specific information about each employee, like their age or performance in different departments."
      ],
      "metadata": {
        "id": "cDtHUh38VJ96"
      }
    },
    {
      "cell_type": "markdown",
      "source": [
        "17.  Describe the time complexity of accessing elements in a dictionary?\n",
        "A. In Python, the time complexity of accessing elements in a **dictionary** is typically O(1) (constant time). This is because dictionaries are implemented using **hash tables**, which allow direct access to values based on the hash of the key. When a key is provided, Python computes the hash, maps it to an index in the underlying table, and retrieves the corresponding value efficiently. In rare cases, such as hash collisions, the time complexity can degrade to O(n), but this is uncommon due to Python's efficient collision resolution techniques."
      ],
      "metadata": {
        "id": "fHBVwV8mVqGX"
      }
    },
    {
      "cell_type": "markdown",
      "source": [
        "18.  In what situations are lists preferred over dictionaries?\n",
        "A. Lists are preferred over dictionaries in situations where:\n",
        "- The data is ordered or you need to maintain the sequence of elements.\n",
        "- You need to store duplicate values, as lists allow multiple identical elements.\n",
        "- You need to access elements by index or perform slicing operations.\n",
        "- The data doesn’t require key-value pairs or direct mappings.\n",
        "\n",
        "Lists are ideal when the focus is on ordered collections, iteration, or when you need to maintain data in a specific sequence or frequency."
      ],
      "metadata": {
        "id": "whZu8bp7WIvK"
      }
    },
    {
      "cell_type": "markdown",
      "source": [
        "19. Why are dictionaries considered unordered, and how does that affect data retrieval?\n",
        "A. Dictionaries in Python are considered unordered because they store key-value pairs in a hash table, which uses the hash value of the key to determine its placement in memory. This means the order of items is not maintained, and dictionaries don’t guarantee any specific sequence of keys. However, starting from Python 3.7, dictionaries preserve insertion order (the order in which items are added), although they are still technically unordered in terms of their internal structure.\n",
        "\n",
        "Despite being unordered, dictionaries allow for efficient O(1) average time complexity for lookups, since the hash table enables fast, direct access to values based on keys."
      ],
      "metadata": {
        "id": "Da4zctVBWoga"
      }
    },
    {
      "cell_type": "markdown",
      "source": [
        "20.  Explain the difference between a list and a dictionary in terms of data retrieval?\n",
        "A. The key difference between a list and a dictionary in terms of data retrieval lies in how elements are accessed.\n",
        "* List - Ordered, mutable collections of elements. Think of shopping lists or task lists. Lists can hold items of various data types (numbers, strings, even other lists!). You can add, remove, or modify elements within a list using indexing and slicing. Lists are versatile for storing and managing collections that might change.\n",
        "* Dictonary - Elements are not stored in a specific order. ach key acts as a unique identifier for retrieving an associated value.  Keys and values can be of various data types (strings, numbers, lists, and even other dictionaries).\n",
        "Add: Use direct assignment method.\n",
        "Access: Retrieve values using their keys.\n",
        "Remove: Use del dictionary_name.\n",
        "Check membership: Use the in operator."
      ],
      "metadata": {
        "id": "CN0onWtkW9_E"
      }
    },
    {
      "cell_type": "markdown",
      "source": [
        "# **Practical Questions**"
      ],
      "metadata": {
        "id": "8m50zlR7YFwD"
      }
    },
    {
      "cell_type": "code",
      "source": [
        "1. Write a code to create a string with your name and print it\n",
        "A.my_name = \"Shreya\"\n",
        "\n",
        "print(Shreya)\n"
      ],
      "metadata": {
        "id": "tmbLjJVHYNRv"
      },
      "execution_count": null,
      "outputs": []
    },
    {
      "cell_type": "code",
      "source": [
        "2. Write a code to find the length of the string \"Hello World\"\n",
        "A. # Defining the string\n",
        "my_string = \"Hello World\"\n",
        "\n",
        "# Finding the length of the string\n",
        "length_of_string = len(my_string)\n",
        "\n",
        "# Printing the length\n",
        "print(\"The length of the string is:\", length_of_string)\n"
      ],
      "metadata": {
        "id": "n0KT-olVYg5h"
      },
      "execution_count": null,
      "outputs": []
    },
    {
      "cell_type": "code",
      "source": [
        "3. Write a code to slice the first 3 characters from the string \"Python Programming\"?\n",
        "A. my_string = \"Python Programming\"\n",
        "\n",
        "# Slicing the first 3 characters\n",
        "sliced_string = my_string[:3]\n",
        "\n",
        "# Printing the sliced string\n",
        "print(sliced_string)\n"
      ],
      "metadata": {
        "id": "VttSu8g1Y8Mk"
      },
      "execution_count": null,
      "outputs": []
    },
    {
      "cell_type": "code",
      "source": [
        "4. Write a code to convert the string \"hello\" to uppercase?\n",
        "A. print(\"hello\".upper())\n"
      ],
      "metadata": {
        "id": "bmMIzYxCZbMZ"
      },
      "execution_count": null,
      "outputs": []
    },
    {
      "cell_type": "code",
      "source": [
        "5. Write a code to replace the word \"apple\" with \"orange\" in the string \"I like apple\"\n",
        "A. print(\"I like apple\".replace(\"apple\", \"orange\"))\n"
      ],
      "metadata": {
        "id": "EEcgFfS8Z0u1"
      },
      "execution_count": null,
      "outputs": []
    },
    {
      "cell_type": "code",
      "source": [
        "6. Write a code to create a list with numbers 1 to 5 and print it\n",
        "A. my_list = [1, 2, 3, 4, 5]\n",
        "print(my_list)"
      ],
      "metadata": {
        "id": "2aby5_QaaD3s"
      },
      "execution_count": null,
      "outputs": []
    },
    {
      "cell_type": "code",
      "source": [
        "7. Write a code to append the number 10 to the list [1, 2, 3, 4]\n",
        "A. print([1, 2, 3, 4].append(10) or [1, 2, 3, 4])\n"
      ],
      "metadata": {
        "id": "ZjgXYbYjaVqd"
      },
      "execution_count": null,
      "outputs": []
    },
    {
      "cell_type": "code",
      "source": [
        "8. Write a code to remove the number 3 from the list [1, 2, 3, 4, 5]\n",
        "A. print([1, 2, 3, 4, 5].remove(3) or [1, 2, 4, 5])\n"
      ],
      "metadata": {
        "id": "kDa4LyVJalHf"
      },
      "execution_count": null,
      "outputs": []
    },
    {
      "cell_type": "code",
      "source": [
        "9. Write a code to access the second element in the list ['a', 'b', 'c', 'd']P\n",
        "A. print(['a', 'b', 'c', 'd'][1])\n"
      ],
      "metadata": {
        "id": "GEaURYxnay2K"
      },
      "execution_count": null,
      "outputs": []
    },
    {
      "cell_type": "code",
      "source": [
        "10.  Write a code to reverse the list [10, 20, 30, 40, 50]\n",
        "A. print([10, 20, 30, 40, 50][::-1])\n"
      ],
      "metadata": {
        "id": "YWTzZ6yUa-a-"
      },
      "execution_count": null,
      "outputs": []
    },
    {
      "cell_type": "code",
      "source": [
        "11.Write a code to create a tuple with the elements 100, 200, 300 and print it\n",
        " A. print((100, 200, 300))\n"
      ],
      "metadata": {
        "id": "CKiugQL_bLOg"
      },
      "execution_count": null,
      "outputs": []
    },
    {
      "cell_type": "code",
      "source": [
        "12. Write a code to access the second-to-last element of the tuple ('red', 'green', 'blue', 'yellow')\n",
        "A. print(('red', 'green', 'blue', 'yellow')[-2])\n"
      ],
      "metadata": {
        "id": "Uw3y-9VsbXVd"
      },
      "execution_count": null,
      "outputs": []
    },
    {
      "cell_type": "code",
      "source": [
        "13. Write a code to find the minimum number in the tuple (10, 20, 5, 15)\n",
        "A. print(min((10, 20, 5, 15)))\n"
      ],
      "metadata": {
        "id": "RsMTWnv9bjIZ"
      },
      "execution_count": null,
      "outputs": []
    },
    {
      "cell_type": "code",
      "source": [
        "14. Write a code to find the index of the element \"cat\" in the tuple ('dog', 'cat', 'rabbit')\n",
        "A. print(('dog', 'cat', 'rabbit').index('cat'))\n"
      ],
      "metadata": {
        "id": "Y0VsO90ubtqX"
      },
      "execution_count": null,
      "outputs": []
    },
    {
      "cell_type": "code",
      "source": [
        "15. Write a code to create a tuple containing three different fruits and check if \"kiwi\" is in it.\n",
        "A. fruits = ('apple', 'banana', 'orange')\n",
        "print('kiwi' in fruits)\n"
      ],
      "metadata": {
        "id": "f3fjhXohb3Ya"
      },
      "execution_count": null,
      "outputs": []
    },
    {
      "cell_type": "code",
      "source": [
        "16. Write a code to create a set with the elements 'a', 'b', 'c' and print it.\n",
        "A. print({'a', 'b', 'c'})\n"
      ],
      "metadata": {
        "id": "h0BTpIlacArc"
      },
      "execution_count": null,
      "outputs": []
    },
    {
      "cell_type": "code",
      "source": [
        "17. Write a code to clear all elements from the set {1, 2, 3, 4, 5}.\n",
        "A. s = {1, 2, 3, 4, 5}\n",
        "s.clear()\n",
        "print(s)\n"
      ],
      "metadata": {
        "id": "_IrDQjNCcJof"
      },
      "execution_count": null,
      "outputs": []
    },
    {
      "cell_type": "code",
      "source": [
        "18. Write a code to remove the element 4 from the set {1, 2, 3, 4}.\n",
        "A. s = {1, 2, 3, 4}\n",
        "s.remove(4)\n",
        "print(s)\n"
      ],
      "metadata": {
        "id": "dpP8CFyOcUoG"
      },
      "execution_count": null,
      "outputs": []
    },
    {
      "cell_type": "code",
      "source": [
        "19. Write a code to find the union of two sets {1, 2, 3} and {3, 4, 5}\n",
        "A. print({1, 2, 3} | {3, 4, 5})\n"
      ],
      "metadata": {
        "id": "2lfAb5-Ccc-C"
      },
      "execution_count": null,
      "outputs": []
    },
    {
      "cell_type": "code",
      "source": [
        "20. Write a code to find the intersection of two sets {1, 2, 3} and {2, 3, 4}.\n",
        "A. print({1, 2, 3} & {2, 3, 4})\n"
      ],
      "metadata": {
        "id": "7YSunNGucr-y"
      },
      "execution_count": null,
      "outputs": []
    },
    {
      "cell_type": "code",
      "source": [
        "21. Write a code to create a dictionary with the keys \"name\", \"age\", and \"city\", and print it.\n",
        "A. print({\"name\": \"John\", \"age\": 30, \"city\": \"New York\"})\n"
      ],
      "metadata": {
        "id": "nwhUW7pBc10U"
      },
      "execution_count": null,
      "outputs": []
    },
    {
      "cell_type": "code",
      "source": [
        "22. Write a code to add a new key-value pair \"country\": \"USA\" to the dictionary {'name': 'John', 'age': 25}.\n",
        "A. d = {'name': 'John', 'age': 25}\n",
        "d['country'] = 'USA'\n",
        "print(d)\n"
      ],
      "metadata": {
        "id": "4QHgUxf5dDO6"
      },
      "execution_count": null,
      "outputs": []
    },
    {
      "cell_type": "code",
      "source": [
        "23. Write a code to access the value associated with the key \"name\" in the dictionary {'name': 'Alice', 'age': 30}.\n",
        "A. print({'name': 'Alice', 'age': 30}['name'])\n"
      ],
      "metadata": {
        "id": "yqbsWSJ2dN6J"
      },
      "execution_count": null,
      "outputs": []
    },
    {
      "cell_type": "code",
      "source": [
        "24. Write a code to remove the key \"age\" from the dictionary {'name': 'Bob', 'age': 22, 'city': 'New York'}.\n",
        "A. d = {'name': 'Bob', 'age': 22, 'city': 'New York'}\n",
        "del d['age']\n",
        "print(d)\n"
      ],
      "metadata": {
        "id": "AM9pI-IpdwCr"
      },
      "execution_count": null,
      "outputs": []
    },
    {
      "cell_type": "code",
      "source": [
        "25. Write a code to check if the key \"city\" exists in the dictionary {'name': 'Alice', 'city': 'Paris'}.\n",
        "A. print('city' in {'name': 'Alice', 'city': 'Paris'})\n"
      ],
      "metadata": {
        "id": "vQAuc5Cjd2Mq"
      },
      "execution_count": null,
      "outputs": []
    },
    {
      "cell_type": "code",
      "source": [
        "26. Write a code to create a list, a tuple, and a dictionary, and print them all.\n",
        "A. my_list = [1, 2, 3, 4]\n",
        "my_tuple = (5, 6, 7, 8)\n",
        "my_dict = {'name': 'John', 'age': 30}\n",
        "\n",
        "print(my_list)\n",
        "print(my_tuple)\n",
        "print(my_dict)\n"
      ],
      "metadata": {
        "id": "zNLR2G9seCfv"
      },
      "execution_count": null,
      "outputs": []
    },
    {
      "cell_type": "code",
      "source": [
        "27.  Write a code to create a list of 5 random numbers between 1 and 100, sort it in ascending order, and print the\n",
        "result.(replaced)\n",
        "A. import random\n",
        "\n",
        "random_numbers = [random.randint(1, 100) for _ in range(5)]\n",
        "random_numbers.sort()\n",
        "print(random_numbers)\n"
      ],
      "metadata": {
        "id": "f55AQk_MeTPA"
      },
      "execution_count": null,
      "outputs": []
    },
    {
      "cell_type": "code",
      "source": [
        "28. Write a code to create a list with strings and print the element at the third index.\n",
        "A. my_list = [\"apple\", \"banana\", \"cherry\", \"date\", \"elderberry\"]\n",
        "print(my_list[3])\n"
      ],
      "metadata": {
        "id": "Ef6MKotQehNp"
      },
      "execution_count": null,
      "outputs": []
    },
    {
      "cell_type": "code",
      "source": [
        "29. Write a code to combine two dictionaries into one and print the result.\n",
        "A. dict1 = {'name': 'Alice', 'age': 25}\n",
        "dict2 = {'city': 'Paris', 'country': 'France'}\n",
        "combined_dict = {**dict1, **dict2}\n",
        "print(combined_dict)\n"
      ],
      "metadata": {
        "id": "swIPDW8terNk"
      },
      "execution_count": null,
      "outputs": []
    },
    {
      "cell_type": "code",
      "source": [
        "30. Write a code to convert a list of strings into a set.\n",
        "A. my_list = [\"apple\", \"banana\", \"cherry\", \"apple\"]\n",
        "my_set = set(my_list)\n",
        "print(my_set)\n"
      ],
      "metadata": {
        "id": "NxYISA6Re4sS"
      },
      "execution_count": null,
      "outputs": []
    }
  ]
}